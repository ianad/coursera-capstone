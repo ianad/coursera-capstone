{
 "cells": [
  {
   "cell_type": "code",
   "execution_count": null,
   "metadata": {},
   "outputs": [],
   "source": [
    "import pandas as pd\n",
    "import pickle"
   ]
  },
  {
   "cell_type": "markdown",
   "metadata": {},
   "source": [
    "## Scrape and clean the data from Wikipedia\n",
    "\n",
    "Instead of using BeautifulSoup, `pandas` has a convenient built-in function for scraping HTML tables: `pd.read_html()`. We'll use that, declare the first row of each table as its header, and select the first table:"
   ]
  },
  {
   "cell_type": "code",
   "execution_count": null,
   "metadata": {},
   "outputs": [],
   "source": [
    "df = pd.read_html('https://en.wikipedia.org/wiki/List_of_postal_codes_of_Canada:_M', header=0)[0]\n",
    "print(df.shape)\n",
    "df.head()"
   ]
  },
  {
   "cell_type": "markdown",
   "metadata": {},
   "source": [
    "Then do some quick cleaning:"
   ]
  },
  {
   "cell_type": "code",
   "execution_count": null,
   "metadata": {},
   "outputs": [],
   "source": [
    "# Excluding postcodes where the borough isn't assigned\n",
    "df = df[df['Borough'] != \"Not assigned\"]\n",
    "\n",
    "# Americanizing spelling for my own convenience\n",
    "df.rename(columns={'Neighbourhood':'Neighborhood'}, inplace=True)\n",
    "\n",
    "# Naming the Neighborhood after the borough where the latter is assigned but the former isn't\n",
    "mask = df['Neighborhood'] == 'Not assigned'\n",
    "df.loc[mask, 'Neighborhood'] = df.loc[mask, 'Borough']\n",
    "\n",
    "# Cleaning up after the dropped rows\n",
    "df.reset_index(drop=True, inplace=True)\n",
    "\n",
    "print(df.shape)\n",
    "df.head()"
   ]
  },
  {
   "cell_type": "markdown",
   "metadata": {},
   "source": [
    "## Consolidate postal code info\n",
    "\n",
    "`DataFrame.groupby().agg()` allows us to group together like Postcodes and map different functions to the associated values in each column.\n",
    "\n",
    "For the the Borough column, we  assuming that the first value we encounter is the only unqiue value for each postcode, but just to be safe we'll test it:"
   ]
  },
  {
   "cell_type": "code",
   "execution_count": null,
   "metadata": {},
   "outputs": [],
   "source": [
    "(df.groupby('Postcode').nunique() == 1).all()"
   ]
  },
  {
   "cell_type": "markdown",
   "metadata": {},
   "source": [
    "Yes, each Postcode maps 1-to-1 to a Borough. That's good; it means we can use the `GroupBy.first()` method to resolve Postcode and Borough.\n",
    "\n",
    "For the Neighborhood column, we'll define a quick `lambda` function to join all of the Neighborhoods and separate them wil columns: `lambda x: ', '.join(x)`, and apply that.\n",
    "\n",
    "We group by Postcode and fill out the `agg` method, renaming the Neighborhood column to Neighborhoods:"
   ]
  },
  {
   "cell_type": "code",
   "execution_count": null,
   "metadata": {},
   "outputs": [],
   "source": [
    "postcodes = (df.groupby('Postcode', as_index=False)\n",
    "             .agg({'Borough':'first','Neighborhood':lambda x: ', '.join(x)})\n",
    "             .rename(columns={'Neighborhood':'Neighborhoods'}))\n",
    "\n",
    "print(postcodes.shape)\n",
    "postcodes.head()"
   ]
  },
  {
   "cell_type": "code",
   "execution_count": null,
   "metadata": {},
   "outputs": [],
   "source": [
    "pickle.dump(postcodes, open('postcodes.dataframe.p', 'wb'))"
   ]
  },
  {
   "cell_type": "code",
   "execution_count": null,
   "metadata": {},
   "outputs": [],
   "source": [
    "print(f\"There are {postcodes.shape[0]} rows in the postcode DataFrame.\")"
   ]
  }
 ],
 "metadata": {
  "kernelspec": {
   "display_name": "Python 3",
   "language": "python",
   "name": "python3"
  },
  "language_info": {
   "codemirror_mode": {
    "name": "ipython",
    "version": 3
   },
   "file_extension": ".py",
   "mimetype": "text/x-python",
   "name": "python",
   "nbconvert_exporter": "python",
   "pygments_lexer": "ipython3",
   "version": "3.7.0"
  }
 },
 "nbformat": 4,
 "nbformat_minor": 2
}
