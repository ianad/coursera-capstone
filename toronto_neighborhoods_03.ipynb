{
 "cells": [
  {
   "cell_type": "code",
   "execution_count": 1,
   "metadata": {},
   "outputs": [
    {
     "name": "stderr",
     "output_type": "stream",
     "text": [
      "[NbConvertApp] Converting notebook toronto_neighborhoods_02.ipynb to html\n",
      "[NbConvertApp] Executing notebook with kernel: python3\n",
      "[NbConvertApp] Writing 329837 bytes to toronto_neighborhoods_02.html\n"
     ]
    },
    {
     "name": "stdout",
     "output_type": "stream",
     "text": [
      "Requirement already up-to-date: folium in c:\\users\\idalt\\appdata\\local\\programs\\python\\python37-32\\lib\\site-packages (0.9.1)\n",
      "Requirement already satisfied, skipping upgrade: branca>=0.3.0 in c:\\users\\idalt\\appdata\\local\\programs\\python\\python37-32\\lib\\site-packages (from folium) (0.3.1)\n",
      "Requirement already satisfied, skipping upgrade: requests in c:\\users\\idalt\\appdata\\local\\programs\\python\\python37-32\\lib\\site-packages (from folium) (2.19.1)\n",
      "Requirement already satisfied, skipping upgrade: jinja2>=2.9 in c:\\users\\idalt\\appdata\\local\\programs\\python\\python37-32\\lib\\site-packages (from folium) (2.10)\n",
      "Requirement already satisfied, skipping upgrade: numpy in c:\\users\\idalt\\appdata\\local\\programs\\python\\python37-32\\lib\\site-packages (from folium) (1.15.1)\n",
      "Requirement already satisfied, skipping upgrade: six in c:\\users\\idalt\\appdata\\local\\programs\\python\\python37-32\\lib\\site-packages (from branca>=0.3.0->folium) (1.11.0)\n",
      "Requirement already satisfied, skipping upgrade: idna<2.8,>=2.5 in c:\\users\\idalt\\appdata\\local\\programs\\python\\python37-32\\lib\\site-packages (from requests->folium) (2.7)\n",
      "Requirement already satisfied, skipping upgrade: chardet<3.1.0,>=3.0.2 in c:\\users\\idalt\\appdata\\local\\programs\\python\\python37-32\\lib\\site-packages (from requests->folium) (3.0.4)\n",
      "Requirement already satisfied, skipping upgrade: urllib3<1.24,>=1.21.1 in c:\\users\\idalt\\appdata\\local\\programs\\python\\python37-32\\lib\\site-packages (from requests->folium) (1.23)\n",
      "Requirement already satisfied, skipping upgrade: certifi>=2017.4.17 in c:\\users\\idalt\\appdata\\local\\programs\\python\\python37-32\\lib\\site-packages (from requests->folium) (2018.8.24)\n",
      "Requirement already satisfied, skipping upgrade: MarkupSafe>=0.23 in c:\\users\\idalt\\appdata\\local\\programs\\python\\python37-32\\lib\\site-packages (from jinja2>=2.9->folium) (1.0)\n"
     ]
    }
   ],
   "source": [
    "!jupyter nbconvert --execute toronto_neighborhoods_02.ipynb\n",
    "!pip install --upgrade folium\n",
    "import pandas as pd\n",
    "import folium\n",
    "import pickle"
   ]
  },
  {
   "cell_type": "code",
   "execution_count": 2,
   "metadata": {},
   "outputs": [],
   "source": [
    "details = pickle.load(open('details.dataframe.p','rb'))"
   ]
  }
 ],
 "metadata": {
  "kernelspec": {
   "display_name": "Python 3",
   "language": "python",
   "name": "python3"
  },
  "language_info": {
   "codemirror_mode": {
    "name": "ipython",
    "version": 3
   },
   "file_extension": ".py",
   "mimetype": "text/x-python",
   "name": "python",
   "nbconvert_exporter": "python",
   "pygments_lexer": "ipython3",
   "version": "3.7.0"
  }
 },
 "nbformat": 4,
 "nbformat_minor": 2
}
