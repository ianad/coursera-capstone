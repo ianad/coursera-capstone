{
  "nbformat": 4,
  "nbformat_minor": 0,
  "metadata": {
    "colab": {
      "name": "coursera-capstone.ipynb",
      "version": "0.3.2",
      "provenance": []
    },
    "kernelspec": {
      "name": "python3",
      "display_name": "Python 3"
    }
  },
  "cells": [
    {
      "cell_type": "markdown",
      "metadata": {
        "id": "PGfiUtP9391M",
        "colab_type": "text"
      },
      "source": [
        "# IBM Coursera Capstone Project\n",
        "\n",
        "This notebook will be used primarily for my capstone project for IBM's Data Science Profiessional Certificate program on Coursera."
      ]
    },
    {
      "cell_type": "code",
      "metadata": {
        "id": "U3bKqxaX44Og",
        "colab_type": "code",
        "colab": {}
      },
      "source": [
        "import pandas as pd\n",
        "import numpy as np\n",
        "\n",
        "import matplotlib as mpl\n",
        "import matplotlib.pyplot as plt\n",
        "import matplotlib.style as style\n",
        "import seaborn as sns\n",
        "style.use('fivethirtyeight')"
      ],
      "execution_count": 0,
      "outputs": []
    },
    {
      "cell_type": "code",
      "metadata": {
        "id": "Bjjs2l4t5IgN",
        "colab_type": "code",
        "colab": {
          "base_uri": "https://localhost:8080/",
          "height": 34
        },
        "outputId": "1efca6da-c1db-4946-89ac-72f355ac6129"
      },
      "source": [
        "print(\"Hello capstone project course!\")"
      ],
      "execution_count": 2,
      "outputs": [
        {
          "output_type": "stream",
          "text": [
            "Hello capstone project course!\n"
          ],
          "name": "stdout"
        }
      ]
    }
  ]
}